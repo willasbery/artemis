{
 "cells": [
  {
   "cell_type": "markdown",
   "metadata": {},
   "source": [
    "# Install and import libraries"
   ]
  },
  {
   "cell_type": "code",
   "execution_count": 8,
   "metadata": {},
   "outputs": [
    {
     "name": "stdout",
     "output_type": "stream",
     "text": [
      "Requirement already satisfied: pydot in c:\\users\\willi\\anaconda3\\lib\\site-packages (3.0.2)\n",
      "Requirement already satisfied: pyparsing>=3.0.9 in c:\\users\\willi\\anaconda3\\lib\\site-packages (from pydot) (3.0.9)\n",
      "Note: you may need to restart the kernel to use updated packages.\n"
     ]
    }
   ],
   "source": [
    "%pip install pydot"
   ]
  },
  {
   "cell_type": "code",
   "execution_count": 2,
   "metadata": {},
   "outputs": [],
   "source": [
    "import numpy as np\n",
    "import pandas as pd\n",
    "\n",
    "import tensorflow as tf\n",
    "from tensorflow.keras.optimizers import Adam\n",
    "from tensorflow.keras.models import Sequential\n",
    "from tensorflow.keras.layers import Dense, Dropout, BatchNormalization\n",
    "from tensorflow.keras.utils import to_categorical, plot_model\n",
    "\n",
    "from sklearn.preprocessing import StandardScaler\n",
    "from sklearn.model_selection import train_test_split\n",
    "\n",
    "from pathlib import Path"
   ]
  },
  {
   "cell_type": "markdown",
   "metadata": {},
   "source": [
    "# Read the files in the data dir"
   ]
  },
  {
   "cell_type": "code",
   "execution_count": 3,
   "metadata": {},
   "outputs": [
    {
     "name": "stdout",
     "output_type": "stream",
     "text": [
      "[WindowsPath('data/1_raw_data_08-49_13.04.16.csv'), WindowsPath('data/1_raw_data_09-32_11.04.16.csv'), WindowsPath('data/1_raw_data_09-49_12.04.16.csv'), WindowsPath('data/1_raw_data_09-49_21.03.16.csv'), WindowsPath('data/1_raw_data_09-50_15.04.16.csv'), WindowsPath('data/1_raw_data_10-03_13.04.16.csv'), WindowsPath('data/1_raw_data_10-16_12.04.16.csv'), WindowsPath('data/1_raw_data_10-17_15.04.16.csv'), WindowsPath('data/1_raw_data_10-22_29.03.16.csv'), WindowsPath('data/1_raw_data_10-28_30.03.16.csv'), WindowsPath('data/1_raw_data_10-38_11.04.16.csv'), WindowsPath('data/1_raw_data_10-51_07.04.16.csv'), WindowsPath('data/1_raw_data_11-08_21.03.16.csv'), WindowsPath('data/1_raw_data_11-15_11.04.16.csv'), WindowsPath('data/1_raw_data_11-19_23.03.16.csv'), WindowsPath('data/1_raw_data_11-35_28.03.16.csv'), WindowsPath('data/1_raw_data_11-41_22.03.16.csv'), WindowsPath('data/1_raw_data_12-04_27.04.16.csv'), WindowsPath('data/1_raw_data_12-10_15.04.16.csv'), WindowsPath('data/1_raw_data_12-10_26.04.16.csv'), WindowsPath('data/1_raw_data_12-12_25.04.16.csv'), WindowsPath('data/1_raw_data_12-14_23.03.16.csv'), WindowsPath('data/1_raw_data_12-19_06.04.16.csv'), WindowsPath('data/1_raw_data_12-35_21.03.16.csv'), WindowsPath('data/1_raw_data_12-37_28.03.16.csv'), WindowsPath('data/1_raw_data_12-41_23.03.16.csv'), WindowsPath('data/1_raw_data_13-03_15.04.16.csv'), WindowsPath('data/1_raw_data_13-11_18.03.16.csv'), WindowsPath('data/1_raw_data_13-12_22.03.16.csv'), WindowsPath('data/1_raw_data_13-18_05.04.16.csv'), WindowsPath('data/1_raw_data_13-26_21.03.16.csv'), WindowsPath('data/1_raw_data_14-19_22.03.16.csv'), WindowsPath('data/1_raw_data_14-51_24.04.16.csv'), WindowsPath('data/1_raw_data_18-02_24.04.16.csv'), WindowsPath('data/1_raw_data_18-48_22.03.16.csv'), WindowsPath('data/1_raw_data_20-28_24.04.16.csv'), WindowsPath('data/2_raw_data_08-51_13.04.16.csv'), WindowsPath('data/2_raw_data_09-34_11.04.16.csv'), WindowsPath('data/2_raw_data_09-50_12.04.16.csv'), WindowsPath('data/2_raw_data_09-50_21.03.16.csv'), WindowsPath('data/2_raw_data_09-51_15.04.16.csv'), WindowsPath('data/2_raw_data_10-05_13.04.16.csv'), WindowsPath('data/2_raw_data_10-17_12.04.16.csv'), WindowsPath('data/2_raw_data_10-18_15.04.16.csv'), WindowsPath('data/2_raw_data_10-23_29.03.16.csv'), WindowsPath('data/2_raw_data_10-29_30.03.16.csv'), WindowsPath('data/2_raw_data_10-40_11.04.16.csv'), WindowsPath('data/2_raw_data_10-53_07.04.16.csv'), WindowsPath('data/2_raw_data_11-10_21.03.16.csv'), WindowsPath('data/2_raw_data_11-16_11.04.16.csv'), WindowsPath('data/2_raw_data_11-20_23.03.16.csv'), WindowsPath('data/2_raw_data_11-36_28.03.16.csv'), WindowsPath('data/2_raw_data_11-43_22.03.16.csv'), WindowsPath('data/2_raw_data_12-06_27.04.16.csv'), WindowsPath('data/2_raw_data_12-11_15.04.16.csv'), WindowsPath('data/2_raw_data_12-11_26.04.16.csv'), WindowsPath('data/2_raw_data_12-14_25.04.16.csv'), WindowsPath('data/2_raw_data_12-16_23.03.16.csv'), WindowsPath('data/2_raw_data_12-20_06.04.16.csv'), WindowsPath('data/2_raw_data_12-37_21.03.16.csv'), WindowsPath('data/2_raw_data_12-39_28.03.16.csv'), WindowsPath('data/2_raw_data_12-43_23.03.16.csv'), WindowsPath('data/2_raw_data_13-04_15.04.16.csv'), WindowsPath('data/2_raw_data_13-13_18.03.16.csv'), WindowsPath('data/2_raw_data_13-13_22.03.16.csv'), WindowsPath('data/2_raw_data_13-19_05.04.16.csv'), WindowsPath('data/2_raw_data_13-29_21.03.16.csv'), WindowsPath('data/2_raw_data_14-21_22.03.16.csv'), WindowsPath('data/2_raw_data_14-53_24.04.16.csv'), WindowsPath('data/2_raw_data_18-03_24.04.16.csv'), WindowsPath('data/2_raw_data_18-50_22.03.16.csv'), WindowsPath('data/2_raw_data_20-30_24.04.16.csv')]\n"
     ]
    }
   ],
   "source": [
    "# Read all of the files in the data folder\n",
    "files_in_folder = Path(\"data\").rglob(\"*.csv\")\n",
    "\n",
    "files = [x for x in files_in_folder]\n",
    "print([file for file in files])"
   ]
  },
  {
   "cell_type": "markdown",
   "metadata": {},
   "source": [
    "## Convert .csv(s) to dataframes and concatenate"
   ]
  },
  {
   "cell_type": "code",
   "execution_count": 4,
   "metadata": {},
   "outputs": [
    {
     "name": "stdout",
     "output_type": "stream",
     "text": [
      "   channel1  channel2  channel3  channel4  channel5  channel6  channel7  \\\n",
      "0  -0.00001   0.00003  -0.00003   0.00001   0.00004   0.00001  -0.00002   \n",
      "1  -0.00001  -0.00001  -0.00004  -0.00005  -0.00004  -0.00003  -0.00004   \n",
      "2  -0.00002  -0.00001  -0.00003  -0.00003  -0.00003   0.00002  -0.00002   \n",
      "3  -0.00002  -0.00001  -0.00003  -0.00003  -0.00003   0.00002  -0.00002   \n",
      "4  -0.00002  -0.00001  -0.00003  -0.00003  -0.00003   0.00002  -0.00002   \n",
      "\n",
      "   channel8  class  \n",
      "0  -0.00004    0.0  \n",
      "1  -0.00002    0.0  \n",
      "2   0.00000    0.0  \n",
      "3   0.00000    0.0  \n",
      "4   0.00000    0.0  \n",
      "Index(['channel1', 'channel2', 'channel3', 'channel4', 'channel5', 'channel6',\n",
      "       'channel7', 'channel8', 'class'],\n",
      "      dtype='object')\n"
     ]
    }
   ],
   "source": [
    "# Read the data from the files\n",
    "dfs = []\n",
    "\n",
    "for file in files:\n",
    "    df = pd.read_csv(str(file))\n",
    "    dfs.append(df)\n",
    "        \n",
    "# Convert the data to a DataFrame\n",
    "df = pd.concat([x for x in dfs], axis=0)\n",
    "\n",
    "print(df.head())\n",
    "\n",
    "# Print out the columns\n",
    "# classes = {\n",
    "#     \"0\": \"unmarked\",\n",
    "#     \"1\": \"rest\",\n",
    "#     \"2\": \"clenched_fist\",\n",
    "#     \"3\": \"wrist_flexion\",\n",
    "#     \"4\": \"wrist_extension\",\n",
    "#     \"5\": \"radial_deviations\",\n",
    "#     \"6\": \"ulnar_deviations\",\n",
    "#     \"7\": \"extended_palm\"\n",
    "# }\n",
    "print(df.columns)"
   ]
  },
  {
   "cell_type": "markdown",
   "metadata": {},
   "source": [
    "## Scale and clean the data, then train the model"
   ]
  },
  {
   "cell_type": "code",
   "execution_count": 5,
   "metadata": {},
   "outputs": [
    {
     "name": "stdout",
     "output_type": "stream",
     "text": [
      "Epoch 1/5\n",
      "42380/42380 [==============================] - 37s 864us/step - loss: 0.9714 - accuracy: 0.6414 - val_loss: 0.9174 - val_accuracy: 0.6425\n",
      "Epoch 2/5\n",
      "42380/42380 [==============================] - 37s 864us/step - loss: 0.9455 - accuracy: 0.6427 - val_loss: 0.9183 - val_accuracy: 0.6432\n",
      "Epoch 3/5\n",
      "42380/42380 [==============================] - 37s 866us/step - loss: 0.9414 - accuracy: 0.6426 - val_loss: 0.9259 - val_accuracy: 0.6433\n",
      "Epoch 4/5\n",
      "42380/42380 [==============================] - 37s 870us/step - loss: 0.9389 - accuracy: 0.6426 - val_loss: 0.9265 - val_accuracy: 0.6429\n",
      "Epoch 5/5\n",
      "42380/42380 [==============================] - 37s 873us/step - loss: 0.9373 - accuracy: 0.6426 - val_loss: 0.9346 - val_accuracy: 0.6432\n",
      "26487/26487 [==============================] - 10s 374us/step - loss: 0.9343 - accuracy: 0.6443\n",
      "Test accuracy: 0.6442539095878601\n"
     ]
    }
   ],
   "source": [
    "X = df.drop(columns=['class'])\n",
    "y = df['class']\n",
    "\n",
    "X_train, X_test, y_train, y_test = train_test_split(X, y, test_size=0.2, random_state=42)\n",
    "\n",
    "# scale the features\n",
    "scaler = StandardScaler()\n",
    "X_train_scaled = scaler.fit_transform(X_train)\n",
    "X_test_scaled = scaler.transform(X_test)\n",
    "\n",
    "# filter for valid classes because the data is not clean\n",
    "valid_classes = [0, 1, 2, 3, 4, 5, 6, 7]\n",
    "mask_train = y_train.isin(valid_classes)\n",
    "mask_test = y_test.isin(valid_classes)\n",
    "\n",
    "# apply the mask to the training and testing data\n",
    "X_train_filtered = X_train_scaled[mask_train]\n",
    "y_train_filtered = y_train[mask_train]\n",
    "\n",
    "X_test_filtered = X_test_scaled[mask_test]\n",
    "y_test_filtered = y_test[mask_test]\n",
    "\n",
    "# one hot encode the target data\n",
    "y_train_categorical = to_categorical(y_train_filtered, num_classes=8)\n",
    "y_test_categorical = to_categorical(y_test_filtered, num_classes=8)\n",
    "\n",
    "model = Sequential()\n",
    "model.add(Dense(128, activation='relu', input_shape=(X_train_filtered.shape[1],)))\n",
    "model.add(BatchNormalization())\n",
    "model.add(Dense(64, activation='relu'))\n",
    "model.add(Dropout(0.5)) \n",
    "model.add(Dense(32, activation='relu'))\n",
    "model.add(Dense(8, activation='softmax'))  # Softmax for 8 output classes\n",
    "\n",
    "# Compile the model with categorical crossentropy for multi-class classification\n",
    "model.compile(optimizer=Adam(learning_rate=0.001), loss='categorical_crossentropy', metrics=['accuracy'])\n",
    "\n",
    "# Train the model using the filtered training data\n",
    "model.fit(X_train_filtered, y_train_categorical, epochs=5, batch_size=64, validation_split=0.2)\n",
    "\n",
    "# Evaluate the model on the filtered test set\n",
    "test_loss, test_acc = model.evaluate(X_test_filtered, y_test_categorical)\n",
    "\n",
    "print(f\"Test accuracy: {test_acc}\")"
   ]
  },
  {
   "cell_type": "code",
   "execution_count": 6,
   "metadata": {},
   "outputs": [
    {
     "data": {
      "image/png": "[encoded data removed]",
      "text/plain": [
       "<IPython.core.display.Image object>"
      ]
     },
     "execution_count": 6,
     "metadata": {},
     "output_type": "execute_result"
    }
   ],
   "source": [
    "plot_model(model, to_file='model_visualisation.png', show_shapes=True, show_layer_names=True)"
   ]
  },
  {
   "cell_type": "markdown",
   "metadata": {},
   "source": [
    "## Test on new data"
   ]
  },
  {
   "cell_type": "code",
   "execution_count": 7,
   "metadata": {},
   "outputs": [
    {
     "name": "stdout",
     "output_type": "stream",
     "text": [
      "Predicted class: [0]\n"
     ]
    }
   ],
   "source": [
    "# random example of new data\n",
    "new_data = pd.DataFrame({\n",
    "    'channel1': [0.00001],\n",
    "    'channel2': [-0.00002],\n",
    "    'channel3': [-0.00003],\n",
    "    'channel4': [0.00001],\n",
    "    'channel5': [-0.00001],\n",
    "    'channel6': [0.00002],\n",
    "    'channel7': [-0.00002],\n",
    "    'channel8': [0.00000]\n",
    "})\n",
    "\n",
    "# scale the new data as we did with the training data\n",
    "new_data_scaled = scaler.transform(new_data)\n",
    "prediction = model.predict(new_data_scaled)\n",
    "\n",
    "# use argmax to get the index of the predicted class\n",
    "predicted_class = np.argmax(prediction, axis=1)\n",
    "\n",
    "print(f\"Predicted class: {predicted_class}\")"
   ]
  }
 ],
 "metadata": {
  "kernelspec": {
   "display_name": "base",
   "language": "python",
   "name": "python3"
  },
  "language_info": {
   "codemirror_mode": {
    "name": "ipython",
    "version": 3
   },
   "file_extension": ".py",
   "mimetype": "text/x-python",
   "name": "python",
   "nbconvert_exporter": "python",
   "pygments_lexer": "ipython3",
   "version": "3.9.19"
  }
 },
 "nbformat": 4,
 "nbformat_minor": 2
}
